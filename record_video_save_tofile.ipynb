{
 "cells": [
  {
   "cell_type": "markdown",
   "metadata": {},
   "source": [
    "# OpenCV Record Video & Save to File"
   ]
  },
  {
   "cell_type": "code",
   "execution_count": 12,
   "metadata": {},
   "outputs": [
    {
     "name": "stdout",
     "output_type": "stream",
     "text": [
      "size (640, 480)\n",
      "fps 9\n"
     ]
    }
   ],
   "source": [
    "import cv2                           # import OpenCV\n",
    "cameraCapture = cv2.VideoCapture(0)  # start the capture from then webcam\n",
    "fps = 9                             # set the fps an assumption \n",
    "size = (int(cameraCapture.get(cv2.CAP_PROP_FRAME_WIDTH)),   # gets the size\n",
    "int(cameraCapture.get(cv2.CAP_PROP_FRAME_HEIGHT)))\n",
    "print(\"size\", size)                       # print the size\n",
    "print(\"fps\", fps)                         # print fps\n",
    "videoWriter = cv2.VideoWriter(              # write the file \n",
    "'OutputVid.avi', cv2.VideoWriter_fourcc('I','4','2','0'), #..._fourcc : codec type\n",
    "fps, size)\n",
    "success, frame = cameraCapture.read()    # start recording\n",
    "time_rec = 10 * fps                 # record for 10 seconds \n",
    "while success and time_rec > 0:\n",
    "    videoWriter.write(frame)       # write each frame\n",
    "    success, frame = cameraCapture.read()   \n",
    "    time_rec -= 1    # \n",
    "cameraCapture.release()"
   ]
  },
  {
   "cell_type": "code",
   "execution_count": null,
   "metadata": {},
   "outputs": [],
   "source": []
  },
  {
   "cell_type": "code",
   "execution_count": null,
   "metadata": {},
   "outputs": [],
   "source": []
  }
 ],
 "metadata": {
  "kernelspec": {
   "display_name": "Python 3",
   "language": "python",
   "name": "python3"
  },
  "language_info": {
   "codemirror_mode": {
    "name": "ipython",
    "version": 3
   },
   "file_extension": ".py",
   "mimetype": "text/x-python",
   "name": "python",
   "nbconvert_exporter": "python",
   "pygments_lexer": "ipython3",
   "version": "3.5.2"
  }
 },
 "nbformat": 4,
 "nbformat_minor": 2
}
